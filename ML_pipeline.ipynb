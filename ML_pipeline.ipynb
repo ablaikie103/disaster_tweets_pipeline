{
 "cells": [
  {
   "cell_type": "markdown",
   "metadata": {},
   "source": [
    "# Build a model with the data"
   ]
  },
  {
   "cell_type": "code",
   "execution_count": 6,
   "metadata": {},
   "outputs": [],
   "source": [
    "import numpy as np\n",
    "import pandas as pd\n",
    "import sqlite3\n",
    "import pickle\n",
    "\n",
    "from sklearn.pipeline import Pipeline\n",
    "from sklearn.feature_extraction.text import CountVectorizer, TfidfTransformer\n",
    "from nltk.stem.porter import PorterStemmer\n",
    "\n",
    "\n",
    "from sklearn.model_selection import train_test_split, GridSearchCV\n",
    "from sklearn.multioutput import MultiOutputClassifier\n",
    "from sklearn.ensemble import RandomForestClassifier\n",
    "from sklearn.linear_model import LogisticRegression\n",
    "\n",
    "\n",
    "from sklearn.metrics import classification_report, accuracy_score, f1_score"
   ]
  },
  {
   "cell_type": "code",
   "execution_count": 29,
   "metadata": {},
   "outputs": [],
   "source": [
    "PATH_TO_DB = 'data/disaster_tweets.db'\n",
    "conn = sqlite3.connect(PATH_TO_DB)\n",
    "df = pd.read_sql('SELECT * FROM tweets', con = conn)"
   ]
  },
  {
   "cell_type": "code",
   "execution_count": 8,
   "metadata": {},
   "outputs": [
    {
     "data": {
      "text/plain": [
       "Index(['id', 'message', 'original', 'genre', 'related', 'request', 'offer',\n",
       "       'aid_related', 'medical_help', 'medical_products', 'search_and_rescue',\n",
       "       'security', 'military', 'water', 'food', 'shelter', 'clothing', 'money',\n",
       "       'missing_people', 'refugees', 'death', 'other_aid',\n",
       "       'infrastructure_related', 'transport', 'buildings', 'electricity',\n",
       "       'tools', 'hospitals', 'shops', 'aid_centers', 'other_infrastructure',\n",
       "       'weather_related', 'floods', 'storm', 'fire', 'earthquake', 'cold',\n",
       "       'other_weather', 'direct_report'],\n",
       "      dtype='object')"
      ]
     },
     "execution_count": 8,
     "metadata": {},
     "output_type": "execute_result"
    }
   ],
   "source": [
    "df.columns"
   ]
  },
  {
   "cell_type": "code",
   "execution_count": 11,
   "metadata": {},
   "outputs": [
    {
     "name": "stdout",
     "output_type": "stream",
     "text": [
      "['related', 'request', 'offer', 'aid_related', 'medical_help', 'medical_products', 'search_and_rescue', 'security', 'military', 'water', 'food', 'shelter', 'clothing', 'money', 'missing_people', 'refugees', 'death', 'other_aid', 'infrastructure_related', 'transport', 'buildings', 'electricity', 'tools', 'hospitals', 'shops', 'aid_centers', 'other_infrastructure', 'weather_related', 'floods', 'storm', 'fire', 'earthquake', 'cold', 'other_weather', 'direct_report']\n"
     ]
    }
   ],
   "source": [
    "X = df['message']\n",
    "Y = df.drop(labels=['id', 'message', 'original', 'genre'], axis=1)\n",
    "\n",
    "category_names = list(Y.columns)\n",
    "print(category_names)"
   ]
  },
  {
   "cell_type": "markdown",
   "metadata": {},
   "source": [
    "Here are disaster related messages."
   ]
  },
  {
   "cell_type": "code",
   "execution_count": 12,
   "metadata": {},
   "outputs": [
    {
     "name": "stdout",
     "output_type": "stream",
     "text": [
      "Weather update - a cold front from Cuba that could pass over Haiti\n",
      "\n",
      "Is the Hurricane over or is it not over\n",
      "\n",
      "says: west side of Haiti, rest of the country today and tonight\n",
      "\n",
      "Storm at sacred heart of jesus\n",
      "\n",
      "Please, we need tents and water. We are in Silo, Thank you!\n",
      "\n",
      "There's nothing to eat and water, we starving and thirsty.\n",
      "\n",
      "I am in Thomassin number 32, in the area named Pyron. I would like to have some water. Thank God we are fine, but we desperately need water. Thanks\n",
      "\n",
      "Let's do it together, need food in Delma 75, in didine area\n",
      "\n",
      "More information on the 4636 number in order for me to participate. ( To see if I can use it )\n",
      "\n",
      "A Comitee in Delmas 19, Rue ( street ) Janvier, Impasse Charite #2. We have about 500 people in a temporary shelter and we are in dire need of Water, Food, Medications, Tents and Clothes. Please stop by and see us.\n",
      "\n"
     ]
    }
   ],
   "source": [
    "for i in range(10):\n",
    "    print(X[Y['related'] == 1].iloc[i] + '\\n')"
   ]
  },
  {
   "cell_type": "markdown",
   "metadata": {},
   "source": [
    "Here are non-disaster related messages."
   ]
  },
  {
   "cell_type": "code",
   "execution_count": 13,
   "metadata": {},
   "outputs": [
    {
     "name": "stdout",
     "output_type": "stream",
     "text": [
      "Information about the National Palace-\n",
      "\n",
      "I would like to receive the messages, thank you\n",
      "\n",
      "I am in Petionville. I need more information regarding 4636\n",
      "\n",
      "I don't understand how to use this thing 4636.\n",
      "\n",
      "Can you tell me about this service\n",
      "\n",
      "Good evening, Radio one please. I would like information on Tiyous.\n",
      "\n",
      "I'm here, I didn't find the person that I needed to send the pant by phone\n",
      "\n",
      "I'm listening to you at Miraguan we asking the government to take change because one gallon gas is 80.\n",
      "\n",
      "i am very happy, i hear god, religious hyme\n",
      "\n",
      "I would like to know how food is distributed.\n",
      "\n"
     ]
    }
   ],
   "source": [
    "for i in range(10):\n",
    "    print(X[Y['related'] == 0].iloc[i] + '\\n')"
   ]
  },
  {
   "cell_type": "code",
   "execution_count": 14,
   "metadata": {},
   "outputs": [],
   "source": [
    "porter = PorterStemmer()\n",
    "def tokenize(text):\n",
    "    return [porter.stem(word) for word in text.split()]"
   ]
  },
  {
   "cell_type": "code",
   "execution_count": 15,
   "metadata": {},
   "outputs": [],
   "source": [
    "pipeline = Pipeline([\n",
    "    ('vect', CountVectorizer(tokenizer = tokenize)),\n",
    "    ('tfidf', TfidfTransformer()),\n",
    "    ('clf', MultiOutputClassifier(LogisticRegression(class_weight='balanced',multi_class='ovr')))\n",
    "])"
   ]
  },
  {
   "cell_type": "code",
   "execution_count": 16,
   "metadata": {},
   "outputs": [],
   "source": [
    "X_train, X_test, Y_train, Y_test = train_test_split(X, Y)"
   ]
  },
  {
   "cell_type": "code",
   "execution_count": 17,
   "metadata": {},
   "outputs": [
    {
     "data": {
      "text/plain": [
       "Pipeline(memory=None,\n",
       "         steps=[('vect',\n",
       "                 CountVectorizer(analyzer='word', binary=False,\n",
       "                                 decode_error='strict',\n",
       "                                 dtype=<class 'numpy.int64'>, encoding='utf-8',\n",
       "                                 input='content', lowercase=True, max_df=1.0,\n",
       "                                 max_features=None, min_df=1,\n",
       "                                 ngram_range=(1, 1), preprocessor=None,\n",
       "                                 stop_words=None, strip_accents=None,\n",
       "                                 token_pattern='(?u)\\\\b\\\\w\\\\w+\\\\b',\n",
       "                                 tokenizer=<function tokenize at...\n",
       "                 TfidfTransformer(norm='l2', smooth_idf=True,\n",
       "                                  sublinear_tf=False, use_idf=True)),\n",
       "                ('clf',\n",
       "                 MultiOutputClassifier(estimator=LogisticRegression(C=1.0,\n",
       "                                                                    class_weight='balanced',\n",
       "                                                                    dual=False,\n",
       "                                                                    fit_intercept=True,\n",
       "                                                                    intercept_scaling=1,\n",
       "                                                                    l1_ratio=None,\n",
       "                                                                    max_iter=100,\n",
       "                                                                    multi_class='ovr',\n",
       "                                                                    n_jobs=None,\n",
       "                                                                    penalty='l2',\n",
       "                                                                    random_state=None,\n",
       "                                                                    solver='lbfgs',\n",
       "                                                                    tol=0.0001,\n",
       "                                                                    verbose=0,\n",
       "                                                                    warm_start=False),\n",
       "                                       n_jobs=None))],\n",
       "         verbose=False)"
      ]
     },
     "execution_count": 17,
     "metadata": {},
     "output_type": "execute_result"
    }
   ],
   "source": [
    "pipeline.fit(X_train, Y_train)"
   ]
  },
  {
   "cell_type": "code",
   "execution_count": 18,
   "metadata": {},
   "outputs": [],
   "source": [
    "Y_pred = pipeline.predict(X_test)"
   ]
  },
  {
   "cell_type": "code",
   "execution_count": 19,
   "metadata": {},
   "outputs": [
    {
     "name": "stdout",
     "output_type": "stream",
     "text": [
      "Category: related \n",
      "f1 Score: 0.8566875597577818 \n",
      "Accuracy 0.7929075836659503\n",
      "\n",
      "\n",
      "Category: request \n",
      "f1 Score: 0.6643464810518175 \n",
      "Accuracy 0.8667485416027019\n",
      "\n",
      "\n",
      "Category: offer \n",
      "f1 Score: 0.115702479338843 \n",
      "Accuracy 0.9835738409579368\n",
      "\n",
      "\n",
      "Category: aid_related \n",
      "f1 Score: 0.735467715972098 \n",
      "Accuracy 0.7729505680073687\n",
      "\n",
      "\n",
      "Category: medical_help \n",
      "f1 Score: 0.45385149201943104 \n",
      "Accuracy 0.8791832975130488\n",
      "\n",
      "\n",
      "Category: medical_products \n",
      "f1 Score: 0.41365853658536583 \n",
      "Accuracy 0.907737181455327\n",
      "\n",
      "\n",
      "Category: search_and_rescue \n",
      "f1 Score: 0.2679245283018868 \n",
      "Accuracy 0.9404359840343874\n",
      "\n",
      "\n",
      "Category: security \n",
      "f1 Score: 0.166189111747851 \n",
      "Accuracy 0.9553269880257906\n",
      "\n",
      "\n",
      "Category: military \n",
      "f1 Score: 0.45977011494252873 \n",
      "Accuracy 0.9494933988332822\n",
      "\n",
      "\n",
      "Category: water \n",
      "f1 Score: 0.6446886446886446 \n",
      "Accuracy 0.9404359840343874\n",
      "\n",
      "\n",
      "Category: food \n",
      "f1 Score: 0.7210144927536232 \n",
      "Accuracy 0.9290758366595027\n",
      "\n",
      "\n",
      "Category: shelter \n",
      "f1 Score: 0.5931758530183727 \n",
      "Accuracy 0.9048203868590727\n",
      "\n",
      "\n",
      "Category: clothing \n",
      "f1 Score: 0.4551724137931035 \n",
      "Accuracy 0.9757445501995702\n",
      "\n",
      "\n",
      "Category: money \n",
      "f1 Score: 0.4229249011857707 \n",
      "Accuracy 0.9551734725207246\n",
      "\n",
      "\n",
      "Category: missing_people \n",
      "f1 Score: 0.22564102564102564 \n",
      "Accuracy 0.9768191587350322\n",
      "\n",
      "\n",
      "Category: refugees \n",
      "f1 Score: 0.41940085592011417 \n",
      "Accuracy 0.9375191894381333\n",
      "\n",
      "\n",
      "Category: death \n",
      "f1 Score: 0.5297691373025517 \n",
      "Accuracy 0.9405894995394535\n",
      "\n",
      "\n",
      "Category: other_aid \n",
      "f1 Score: 0.40432345876701364 \n",
      "Accuracy 0.7715689284617746\n",
      "\n",
      "\n",
      "Category: infrastructure_related \n",
      "f1 Score: 0.2817098808689558 \n",
      "Accuracy 0.8426466073073381\n",
      "\n",
      "\n",
      "Category: transport \n",
      "f1 Score: 0.3031026252983293 \n",
      "Accuracy 0.9103469450414492\n",
      "\n",
      "\n",
      "Category: buildings \n",
      "f1 Score: 0.4847207586933615 \n",
      "Accuracy 0.9249309180227203\n",
      "\n",
      "\n",
      "Category: electricity \n",
      "f1 Score: 0.4035608308605341 \n",
      "Accuracy 0.9691433834817317\n",
      "\n",
      "\n",
      "Category: tools \n",
      "f1 Score: 0.10101010101010102 \n",
      "Accuracy 0.986337120049125\n",
      "\n",
      "\n",
      "Category: hospitals \n",
      "f1 Score: 0.23880597014925373 \n",
      "Accuracy 0.9765121277249003\n",
      "\n",
      "\n",
      "Category: shops \n",
      "f1 Score: 0.0851063829787234 \n",
      "Accuracy 0.9933988332821615\n",
      "\n",
      "\n",
      "Category: aid_centers \n",
      "f1 Score: 0.18326693227091634 \n",
      "Accuracy 0.9685293214614676\n",
      "\n",
      "\n",
      "Category: other_infrastructure \n",
      "f1 Score: 0.24714828897338403 \n",
      "Accuracy 0.8784157199877187\n",
      "\n",
      "\n",
      "Category: weather_related \n",
      "f1 Score: 0.7474854420328216 \n",
      "Accuracy 0.8535462081670249\n",
      "\n",
      "\n",
      "Category: floods \n",
      "f1 Score: 0.6020651310563939 \n",
      "Accuracy 0.9230887319619282\n",
      "\n",
      "\n",
      "Category: storm \n",
      "f1 Score: 0.6818851251840943 \n",
      "Accuracy 0.933681301811483\n",
      "\n",
      "\n",
      "Category: fire \n",
      "f1 Score: 0.375 \n",
      "Accuracy 0.986183604544059\n",
      "\n",
      "\n",
      "Category: earthquake \n",
      "f1 Score: 0.7734374999999999 \n",
      "Accuracy 0.9554805035308566\n",
      "\n",
      "\n",
      "Category: cold \n",
      "f1 Score: 0.4844290657439446 \n",
      "Accuracy 0.9771261897451643\n",
      "\n",
      "\n",
      "Category: other_weather \n",
      "f1 Score: 0.3141263940520446 \n",
      "Accuracy 0.8867055572612834\n",
      "\n",
      "\n",
      "Category: direct_report \n",
      "f1 Score: 0.6283967391304348 \n",
      "Accuracy 0.8320540374577833\n",
      "\n",
      "\n"
     ]
    }
   ],
   "source": [
    "# Calculate the accuracy for each of them.\n",
    "for i in range(len(category_names)):\n",
    "    print('Category: {} '.format(category_names[i]))\n",
    "    print('f1 Score: {} '.format(f1_score(Y_test.iloc[:, i].values, Y_pred[:, i])))\n",
    "    print('Accuracy {}\\n\\n'.format(accuracy_score(Y_test.iloc[:, i].values, Y_pred[:, i])))"
   ]
  },
  {
   "cell_type": "code",
   "execution_count": 22,
   "metadata": {},
   "outputs": [],
   "source": [
    "CLASSIFIER_PATH = 'classifier/trained_classifier.pkl'\n",
    "pickle.dump(pipeline, open(CLASSIFIER_PATH, 'wb'))"
   ]
  },
  {
   "cell_type": "code",
   "execution_count": 25,
   "metadata": {},
   "outputs": [],
   "source": [
    "# Load the model from pickle file\n",
    "model = pickle.load(open(CLASSIFIER_PATH, 'rb'))"
   ]
  },
  {
   "cell_type": "code",
   "execution_count": 26,
   "metadata": {},
   "outputs": [],
   "source": [
    "def get_predicted_category_names(category_predicted):\n",
    "    return [category_names[i] for i in range(len(category_predicted)) if category_predicted[i] == 1]"
   ]
  },
  {
   "cell_type": "code",
   "execution_count": 27,
   "metadata": {},
   "outputs": [
    {
     "data": {
      "text/plain": [
       "['related', 'water', 'weather_related', 'storm', 'direct_report']"
      ]
     },
     "execution_count": 27,
     "metadata": {},
     "output_type": "execute_result"
    }
   ],
   "source": [
    "get_predicted_category_names(model.predict([\"I felt a big storm in Eugene this morning. I need water.\"])[0])"
   ]
  },
  {
   "cell_type": "code",
   "execution_count": 28,
   "metadata": {},
   "outputs": [
    {
     "data": {
      "text/plain": [
       "[]"
      ]
     },
     "execution_count": 28,
     "metadata": {},
     "output_type": "execute_result"
    }
   ],
   "source": [
    "get_predicted_category_names(model.predict([\"How do I download zoom for this remote meeting?\"])[0])"
   ]
  },
  {
   "cell_type": "code",
   "execution_count": 30,
   "metadata": {},
   "outputs": [],
   "source": [
    "# Just be sure any changes have been committed or they will be lost.\n",
    "conn.close()"
   ]
  },
  {
   "cell_type": "code",
   "execution_count": null,
   "metadata": {},
   "outputs": [],
   "source": []
  }
 ],
 "metadata": {
  "kernelspec": {
   "display_name": "Python 3",
   "language": "python",
   "name": "python3"
  },
  "language_info": {
   "codemirror_mode": {
    "name": "ipython",
    "version": 3
   },
   "file_extension": ".py",
   "mimetype": "text/x-python",
   "name": "python",
   "nbconvert_exporter": "python",
   "pygments_lexer": "ipython3",
   "version": "3.7.6"
  }
 },
 "nbformat": 4,
 "nbformat_minor": 4
}
