{
 "cells": [
  {
   "cell_type": "markdown",
   "metadata": {},
   "source": [
    "# Comebine the data into a single database"
   ]
  },
  {
   "cell_type": "code",
   "execution_count": 1,
   "metadata": {},
   "outputs": [],
   "source": [
    "import numpy as np\n",
    "import pandas as pd\n",
    "import sqlite3"
   ]
  },
  {
   "cell_type": "code",
   "execution_count": 2,
   "metadata": {},
   "outputs": [],
   "source": [
    "def load_tweet_data(df, db_path, append=True):\n",
    "    \n",
    "    conn = sqlite3.connect(db_path)\n",
    "    if append:\n",
    "        df.to_sql('tweets', con = conn, if_exists='append', index=False)\n",
    "    else:\n",
    "        df.to_sql('tweets', con = conn, if_exists='replace', index=False)\n",
    "    conn.commit()\n",
    "    conn.close()\n",
    "    \n",
    "    return None"
   ]
  },
  {
   "cell_type": "code",
   "execution_count": 7,
   "metadata": {},
   "outputs": [],
   "source": [
    "# Execute this code cell to run the ETL pipeline\n",
    "\n",
    "paths_to_data = ['disaster_response_messages_training.csv',\n",
    "                 'disaster_response_messages_test.csv',\n",
    "                 'disaster_response_messages_validation.csv'\n",
    "                ]\n",
    "\n",
    "db_path = 'disaster_tweets.db'\n",
    "\n",
    "for i, path in enumerate(paths_to_data):\n",
    "    # Extract the Data\n",
    "    df = pd.read_csv(path)\n",
    "\n",
    "    # Clean data\n",
    "    df.drop('split', axis=1, inplace=True)\n",
    "    \n",
    "    df = df[df['related'] != 2]\n",
    "\n",
    "    # Load the Data\n",
    "    if i == 0:\n",
    "        load_tweet_data(df, db_path, append=False)\n",
    "    else:\n",
    "        load_tweet_data(df,db_path)"
   ]
  },
  {
   "cell_type": "code",
   "execution_count": 8,
   "metadata": {},
   "outputs": [
    {
     "data": {
      "text/plain": [
       "(26055, 41)"
      ]
     },
     "execution_count": 8,
     "metadata": {},
     "output_type": "execute_result"
    }
   ],
   "source": [
    "conn = sqlite3.connect(db_path)\n",
    "\n",
    "pd.read_sql('SELECT * FROM tweets', con = conn).shape"
   ]
  },
  {
   "cell_type": "code",
   "execution_count": null,
   "metadata": {},
   "outputs": [],
   "source": []
  }
 ],
 "metadata": {
  "kernelspec": {
   "display_name": "Python 3",
   "language": "python",
   "name": "python3"
  },
  "language_info": {
   "codemirror_mode": {
    "name": "ipython",
    "version": 3
   },
   "file_extension": ".py",
   "mimetype": "text/x-python",
   "name": "python",
   "nbconvert_exporter": "python",
   "pygments_lexer": "ipython3",
   "version": "3.7.6"
  }
 },
 "nbformat": 4,
 "nbformat_minor": 4
}
